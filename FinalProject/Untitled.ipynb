{
 "cells": [
  {
   "cell_type": "code",
   "execution_count": 93,
   "metadata": {},
   "outputs": [],
   "source": [
    "import sys\n",
    "import os\n",
    "#sys.path.append(os.path.abspath(\"../../\"))\n",
    "from recsys import *\n",
    "from generic_preprocessing import *\n",
    "from IPython.display import HTML\n",
    "\n",
    "import pandas as pd\n",
    "import numpy as np\n",
    "from scipy import sparse\n",
    "from lightfm import LightFM\n",
    "from sklearn.metrics.pairwise import cosine_similarity\n",
    "import pickle\n",
    "import joblib\n",
    " \n",
    "    \n",
    "def train():\n",
    "    data = pd.read_csv('ml-latest-small/newData1.csv')\n",
    "    ratings = data.drop(['category'], axis = 1)\n",
    "    movies = pd.read_csv('ml-latest-small/itemInfo.csv')\n",
    "    interactions = joblib.load('interactions')\n",
    "    user_dict = joblib.load('user_dict')\n",
    "    items_dict = joblib.load('items_dict')\n",
    "    model = joblib.load('mf_model')\n",
    "    \n",
    "    def sample_recommendation_user(model, interactions, user_id, user_dict, \n",
    "                                   item_dict,threshold = 0,nrec_items = 10, show = True):\n",
    "        '''\n",
    "        Function to produce user recommendations\n",
    "        Required Input - \n",
    "            - model = Trained matrix factorization model\n",
    "            - interactions = dataset used for training the model\n",
    "            - user_id = user ID for which we need to generate recommendation\n",
    "            - user_dict = Dictionary type input containing interaction_index as key and user_id as value\n",
    "            - item_dict = Dictionary type input containing item_id as key and item_name as value\n",
    "            - threshold = value above which the rating is favorable in new interaction matrix\n",
    "            - nrec_items = Number of output recommendation needed\n",
    "        Expected Output - \n",
    "            - Prints list of items the given user has already bought\n",
    "            - Prints list of N recommended items  which user hopefully will be interested in\n",
    "        '''\n",
    "        n_users, n_items = interactions.shape\n",
    "        user_x = user_dict[user_id]\n",
    "        scores = pd.Series(model.predict(user_x,np.arange(n_items)))\n",
    "        scores.index = interactions.columns\n",
    "        scores = list(pd.Series(scores.sort_values(ascending=False).index))\n",
    "    \n",
    "        known_items = list(pd.Series(interactions.loc[user_id,:] \\\n",
    "                                     [interactions.loc[user_id,:] > threshold].index) \\\n",
    "                                     .sort_values(ascending=False))\n",
    "    \n",
    "        scores = [x for x in scores if x not in known_items]\n",
    "        return_score_list = scores[0:nrec_items]\n",
    "        known_items = list(pd.Series(known_items).apply(lambda x: item_dict[x]))\n",
    "        scores = list(pd.Series(return_score_list).apply(lambda x: item_dict[x]))\n",
    "        if show == True:\n",
    "            print(\"Known Likes:\")\n",
    "            counter = 1\n",
    "            for i in known_items:\n",
    "                print(str(counter) + '- ' + i)\n",
    "                counter+=1\n",
    "\n",
    "            print(\"\\n Recommended Items:\")\n",
    "            counter = 1\n",
    "            for i in scores:\n",
    "                print(str(counter) + '- ' + i)\n",
    "                counter+=1\n",
    "        return return_score_list\n",
    "    "
   ]
  },
  {
   "cell_type": "code",
   "execution_count": 94,
   "metadata": {},
   "outputs": [],
   "source": [
    "train()"
   ]
  },
  {
   "cell_type": "code",
   "execution_count": 126,
   "metadata": {},
   "outputs": [],
   "source": [
    "def predict(userID):\n",
    "    interactions = joblib.load('interactions')\n",
    "    user_dict = joblib.load('user_dict')\n",
    "    items_dict = joblib.load('items_dict')\n",
    "    model = joblib.load('mf_model')\n",
    "    \n",
    "    rec_list = sample_recommendation_user(model = model, \n",
    "                                      interactions = interactions, \n",
    "                                      user_id = userID, \n",
    "                                      user_dict = user_dict,\n",
    "                                      item_dict = movies_dict, \n",
    "                                      threshold = 4,\n",
    "                                      nrec_items = 10)\n",
    "    return rec_list.append(2)"
   ]
  },
  {
   "cell_type": "code",
   "execution_count": 128,
   "metadata": {},
   "outputs": [
    {
     "name": "stdout",
     "output_type": "stream",
     "text": [
      "Known Likes:\n",
      "\n",
      " Recommended Items:\n",
      "1- Ham egg & cheese burger\n",
      "2- Cappuccino\n",
      "3- Bagel with cream cheese\n",
      "4- Avacado Bacon Burger\n",
      "5- Blue Raspeberry Slushie\n",
      "6- Filet-O-Fish\n",
      "7- Crab Linguini Alfredo\n",
      "8- Chicken Salad\n",
      "9- Chocolate Chip Cookie\n",
      "10- Muffin\n"
     ]
    }
   ],
   "source": [
    "predict(3)"
   ]
  },
  {
   "cell_type": "code",
   "execution_count": 121,
   "metadata": {},
   "outputs": [],
   "source": [
    "df = rec_list.append(21)"
   ]
  },
  {
   "cell_type": "code",
   "execution_count": 109,
   "metadata": {},
   "outputs": [],
   "source": [
    "df"
   ]
  },
  {
   "cell_type": "code",
   "execution_count": 114,
   "metadata": {},
   "outputs": [],
   "source": [
    "data = pd.read_csv('test_data.csv')\n",
    "df1 =  data['id']==450000"
   ]
  },
  {
   "cell_type": "code",
   "execution_count": null,
   "metadata": {},
   "outputs": [],
   "source": []
  },
  {
   "cell_type": "code",
   "execution_count": 115,
   "metadata": {},
   "outputs": [
    {
     "ename": "ModuleNotFoundError",
     "evalue": "No module named 'faker'",
     "output_type": "error",
     "traceback": [
      "\u001b[0;31m---------------------------------------------------------------------------\u001b[0m",
      "\u001b[0;31mModuleNotFoundError\u001b[0m                       Traceback (most recent call last)",
      "\u001b[0;32m<ipython-input-115-c8d7425be09d>\u001b[0m in \u001b[0;36m<module>\u001b[0;34m()\u001b[0m\n\u001b[0;32m----> 1\u001b[0;31m \u001b[0;32mimport\u001b[0m \u001b[0mfaker\u001b[0m\u001b[0;34m\u001b[0m\u001b[0;34m\u001b[0m\u001b[0m\n\u001b[0m",
      "\u001b[0;31mModuleNotFoundError\u001b[0m: No module named 'faker'"
     ]
    }
   ],
   "source": [
    "import faker"
   ]
  },
  {
   "cell_type": "code",
   "execution_count": 117,
   "metadata": {},
   "outputs": [
    {
     "ename": "SyntaxError",
     "evalue": "invalid syntax (<ipython-input-117-a7e55b6de18f>, line 1)",
     "output_type": "error",
     "traceback": [
      "\u001b[0;36m  File \u001b[0;32m\"<ipython-input-117-a7e55b6de18f>\"\u001b[0;36m, line \u001b[0;32m1\u001b[0m\n\u001b[0;31m    pip install faker\u001b[0m\n\u001b[0m              ^\u001b[0m\n\u001b[0;31mSyntaxError\u001b[0m\u001b[0;31m:\u001b[0m invalid syntax\n"
     ]
    }
   ],
   "source": []
  },
  {
   "cell_type": "code",
   "execution_count": null,
   "metadata": {},
   "outputs": [],
   "source": []
  }
 ],
 "metadata": {
  "kernelspec": {
   "display_name": "Python 3",
   "language": "python",
   "name": "python3"
  },
  "language_info": {
   "codemirror_mode": {
    "name": "ipython",
    "version": 3
   },
   "file_extension": ".py",
   "mimetype": "text/x-python",
   "name": "python",
   "nbconvert_exporter": "python",
   "pygments_lexer": "ipython3",
   "version": "3.7.4"
  }
 },
 "nbformat": 4,
 "nbformat_minor": 4
}
