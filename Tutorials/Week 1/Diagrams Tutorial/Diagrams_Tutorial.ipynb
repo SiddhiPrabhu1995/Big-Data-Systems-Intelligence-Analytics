{
  "nbformat": 4,
  "nbformat_minor": 0,
  "metadata": {
    "kernelspec": {
      "display_name": "Python 3",
      "language": "python",
      "name": "python3"
    },
    "language_info": {
      "codemirror_mode": {
        "name": "ipython",
        "version": 3
      },
      "file_extension": ".py",
      "mimetype": "text/x-python",
      "name": "python",
      "nbconvert_exporter": "python",
      "pygments_lexer": "ipython3",
      "version": "3.6.5"
    },
    "colab": {
      "name": "Diagrams Tutorial ",
      "provenance": [],
      "collapsed_sections": [],
      "include_colab_link": true
    }
  },
  "cells": [
    {
      "cell_type": "markdown",
      "metadata": {
        "id": "view-in-github",
        "colab_type": "text"
      },
      "source": [
        "<a href=\"https://colab.research.google.com/github/gurjot-kaur/CSYE7245-Tutorials/blob/master/Diagrams_Tutorial.ipynb\" target=\"_parent\"><img src=\"https://colab.research.google.com/assets/colab-badge.svg\" alt=\"Open In Colab\"/></a>"
      ]
    },
    {
      "cell_type": "markdown",
      "metadata": {
        "id": "INZ7Oe_68DuA",
        "colab_type": "text"
      },
      "source": [
        "# CSYE 7245 Big Data Systems and Intelligence Analytics - Diagrams Tutorial"
      ]
    },
    {
      "cell_type": "markdown",
      "metadata": {
        "id": "DkVcy5Ovl0wk",
        "colab_type": "text"
      },
      "source": [
        "## Diagrams as Code\n",
        "\n",
        "\n",
        "\n",
        "***Diagrams lets you draw the cloud system architecture in Python code***\n",
        "\n",
        "* It is used for prototyping a new system architecture design without any design tools. You can also describe or visualize the existing system architecture as well. \n",
        "\n",
        "* Diagrams currently supports main major providers including: AWS, Azure, GCP, Kubernetes, Alibaba Cloud, Oracle Cloud etc. \n",
        "\n",
        "* It also supports On-Premise nodes, SaaS and major Programming frameworks and languages.\n",
        "\n",
        "* It also allows you to track the architecture diagram changes in any version control system.\n",
        "\n",
        "NOTE: It does not control any actual cloud resources nor does it generate cloud formation or terraform code. It is just for drawing the cloud system architecture diagrams.\n"
      ]
    },
    {
      "cell_type": "markdown",
      "metadata": {
        "id": "5U6KbZ8LReWI",
        "colab_type": "text"
      },
      "source": [
        "Diagrams can be a good replacement for designing your workflows and pipeline architectures rather than using Draw.io or LucidCharts"
      ]
    },
    {
      "cell_type": "markdown",
      "metadata": {
        "id": "pX1MsGTgl0wo",
        "colab_type": "text"
      },
      "source": [
        "### Install below packages "
      ]
    },
    {
      "cell_type": "markdown",
      "metadata": {
        "id": "_3B7fZnCl0wo",
        "colab_type": "text"
      },
      "source": [
        "***1. for installing graphviz*** -\n",
        "\n",
        "- pip install graphviz\n",
        "\n",
        "***2. for installing diagrams***- \n",
        "\n",
        "- pip install diagrams\n",
        "\n"
      ]
    },
    {
      "cell_type": "code",
      "metadata": {
        "id": "oy-KOb1II0Z-",
        "colab_type": "code",
        "colab": {
          "base_uri": "https://localhost:8080/",
          "height": 34
        },
        "outputId": "f2628ab6-9401-4279-9353-e279f6bc9717"
      },
      "source": [
        "!pip install graphviz"
      ],
      "execution_count": null,
      "outputs": [
        {
          "output_type": "stream",
          "text": [
            "Requirement already satisfied: graphviz in /usr/local/lib/python3.6/dist-packages (0.10.1)\n"
          ],
          "name": "stdout"
        }
      ]
    },
    {
      "cell_type": "code",
      "metadata": {
        "id": "OTQJWElrJ4LF",
        "colab_type": "code",
        "colab": {
          "base_uri": "https://localhost:8080/",
          "height": 386
        },
        "outputId": "c8e7a9bc-7803-46d3-deca-0b29a588b2c9"
      },
      "source": [
        "!pip install diagrams"
      ],
      "execution_count": null,
      "outputs": [
        {
          "output_type": "stream",
          "text": [
            "Collecting diagrams\n",
            "\u001b[?25l  Downloading https://files.pythonhosted.org/packages/0e/e9/3b53691337aa1e0648937fe08bdf81ec4daab190b18c4820e9a2ce27144d/diagrams-0.17.0-py3-none-any.whl (15.2MB)\n",
            "\u001b[K     |████████████████████████████████| 15.2MB 282kB/s \n",
            "\u001b[?25hCollecting graphviz<0.14.0,>=0.13.2\n",
            "  Downloading https://files.pythonhosted.org/packages/f5/74/dbed754c0abd63768d3a7a7b472da35b08ac442cf87d73d5850a6f32391e/graphviz-0.13.2-py2.py3-none-any.whl\n",
            "Collecting contextvars<3.0,>=2.4; python_version >= \"3.6\" and python_version < \"3.7\"\n",
            "  Downloading https://files.pythonhosted.org/packages/83/96/55b82d9f13763be9d672622e1b8106c85acb83edd7cc2fa5bc67cd9877e9/contextvars-2.4.tar.gz\n",
            "Requirement already satisfied: jinja2<3.0,>=2.10 in /usr/local/lib/python3.6/dist-packages (from diagrams) (2.11.2)\n",
            "Collecting immutables>=0.9\n",
            "\u001b[?25l  Downloading https://files.pythonhosted.org/packages/99/e0/ea6fd4697120327d26773b5a84853f897a68e33d3f9376b00a8ff96e4f63/immutables-0.14-cp36-cp36m-manylinux1_x86_64.whl (98kB)\n",
            "\u001b[K     |████████████████████████████████| 102kB 9.6MB/s \n",
            "\u001b[?25hRequirement already satisfied: MarkupSafe>=0.23 in /usr/local/lib/python3.6/dist-packages (from jinja2<3.0,>=2.10->diagrams) (1.1.1)\n",
            "Building wheels for collected packages: contextvars\n",
            "  Building wheel for contextvars (setup.py) ... \u001b[?25l\u001b[?25hdone\n",
            "  Created wheel for contextvars: filename=contextvars-2.4-cp36-none-any.whl size=7666 sha256=0b314b4151e42afd40e7fe2268e8d3b7465f7649e789ff5fb784618de27288cb\n",
            "  Stored in directory: /root/.cache/pip/wheels/a5/7d/68/1ebae2668bda2228686e3c1cf16f2c2384cea6e9334ad5f6de\n",
            "Successfully built contextvars\n",
            "Installing collected packages: graphviz, immutables, contextvars, diagrams\n",
            "  Found existing installation: graphviz 0.10.1\n",
            "    Uninstalling graphviz-0.10.1:\n",
            "      Successfully uninstalled graphviz-0.10.1\n",
            "Successfully installed contextvars-2.4 diagrams-0.17.0 graphviz-0.13.2 immutables-0.14\n"
          ],
          "name": "stdout"
        }
      ]
    },
    {
      "cell_type": "markdown",
      "metadata": {
        "id": "5XK1aw66KgLn",
        "colab_type": "text"
      },
      "source": [
        "## Diagrams\n",
        "* Diagram is a primary object representing a diagram.\n",
        "\n",
        "* Diagram represents a global diagram context.\n",
        "\n",
        "* You can create a diagram context with Diagram class. The first parameter of Diagram constructor will be used for output filename."
      ]
    },
    {
      "cell_type": "code",
      "metadata": {
        "id": "-4AaWRiUKs3E",
        "colab_type": "code",
        "colab": {}
      },
      "source": [
        "from diagrams import Diagram\n",
        "from diagrams.aws.compute import EC2\n",
        "\n",
        "with Diagram(\"Simple Diagram\"):\n",
        "    EC2(\"web\")"
      ],
      "execution_count": null,
      "outputs": []
    },
    {
      "cell_type": "code",
      "metadata": {
        "id": "wv5efzreLBNX",
        "colab_type": "code",
        "colab": {}
      },
      "source": [
        "from diagrams import Diagram\n",
        "from diagrams.aws.compute import EC2\n",
        "\n",
        "with Diagram(\"Simple Diagram\", outformat=\"jpg\"):\n",
        "    EC2(\"web\")"
      ],
      "execution_count": null,
      "outputs": []
    },
    {
      "cell_type": "code",
      "metadata": {
        "id": "itQ3aAXFLBTr",
        "colab_type": "code",
        "colab": {}
      },
      "source": [
        "from diagrams import Diagram\n",
        "from diagrams.aws.compute import EC2\n",
        "\n",
        "with Diagram(\"Simple Diagram\", filename=\"my_diagram\"):\n",
        "    EC2(\"web\")"
      ],
      "execution_count": null,
      "outputs": []
    },
    {
      "cell_type": "code",
      "metadata": {
        "id": "R-gSpRGsLBXI",
        "colab_type": "code",
        "colab": {}
      },
      "source": [
        "from diagrams import Diagram\n",
        "from diagrams.aws.compute import EC2\n",
        "\n",
        "with Diagram(\"Simple Diagram\", show=False):\n",
        "    EC2(\"web\")"
      ],
      "execution_count": null,
      "outputs": []
    },
    {
      "cell_type": "code",
      "metadata": {
        "id": "tlB-Wa2wLBa3",
        "colab_type": "code",
        "colab": {}
      },
      "source": [
        "from diagrams import Diagram\n",
        "from diagrams.aws.compute import EC2\n",
        "\n",
        "graph_attr = {\n",
        "    \"fontsize\": \"45\",\n",
        "    \"bgcolor\": \"transparent\"\n",
        "}\n",
        "\n",
        "with Diagram(\"Simple Diagram\", show=False, graph_attr=graph_attr):\n",
        "    EC2(\"web\")"
      ],
      "execution_count": null,
      "outputs": []
    },
    {
      "cell_type": "markdown",
      "metadata": {
        "id": "VFU_migALo0m",
        "colab_type": "text"
      },
      "source": [
        "## Nodes\n",
        "* Node is a second object representing a node or system component.\n",
        "\n",
        "* Node is an abstract concept that represents a single system component object.\n"
      ]
    },
    {
      "cell_type": "code",
      "metadata": {
        "id": "CqwHCOQXMAx5",
        "colab_type": "code",
        "colab": {}
      },
      "source": [
        "from diagrams import Diagram\n",
        "from diagrams.aws.compute import EC2\n",
        "from diagrams.aws.database import RDS\n",
        "from diagrams.aws.network import ELB\n",
        "from diagrams.aws.storage import S3\n",
        "\n",
        "with Diagram(\"Web Services\", show=False):\n",
        "    ELB(\"lb\") >> EC2(\"web\") >> RDS(\"userdb\") >> S3(\"store\")\n",
        "    ELB(\"lb\") >> EC2(\"web\") >> RDS(\"userdb\") << EC2(\"stat\")\n",
        "    (ELB(\"lb\") >> EC2(\"web\")) - EC2(\"web\") >> RDS(\"userdb\")"
      ],
      "execution_count": null,
      "outputs": []
    },
    {
      "cell_type": "code",
      "metadata": {
        "id": "SHhqc-89M0Ph",
        "colab_type": "code",
        "colab": {}
      },
      "source": [
        "from diagrams import Diagram\n",
        "from diagrams.aws.compute import EC2\n",
        "from diagrams.aws.database import RDS\n",
        "from diagrams.aws.network import ELB\n",
        "\n",
        "with Diagram(\"Workers\", show=False, direction=\"TB\"):\n",
        "    lb = ELB(\"lb\")\n",
        "    db = RDS(\"events\")\n",
        "    lb >> EC2(\"worker1\") >> db\n",
        "    lb >> EC2(\"worker2\") >> db\n",
        "    lb >> EC2(\"worker3\") >> db\n",
        "    lb >> EC2(\"worker4\") >> db\n",
        "    lb >> EC2(\"worker5\") >> db"
      ],
      "execution_count": null,
      "outputs": []
    },
    {
      "cell_type": "code",
      "metadata": {
        "id": "3Z1d468RNK26",
        "colab_type": "code",
        "colab": {}
      },
      "source": [
        "from diagrams import Diagram\n",
        "from diagrams.aws.compute import EC2\n",
        "from diagrams.aws.database import RDS\n",
        "from diagrams.aws.network import ELB\n",
        "\n",
        "with Diagram(\"Grouped Workers\", show=False, direction=\"TB\"):\n",
        "    ELB(\"lb\") >> [EC2(\"worker1\"),\n",
        "                  EC2(\"worker2\"),\n",
        "                  EC2(\"worker3\"),\n",
        "                  EC2(\"worker4\"),\n",
        "                  EC2(\"worker5\")] >> RDS(\"events\")"
      ],
      "execution_count": null,
      "outputs": []
    },
    {
      "cell_type": "markdown",
      "metadata": {
        "id": "-7lw4e17Nazi",
        "colab_type": "text"
      },
      "source": [
        "## Clusters\n",
        "Cluster allows you group (or clustering) the nodes in an isolated group."
      ]
    },
    {
      "cell_type": "code",
      "metadata": {
        "id": "x1ZVzSp2NdQ5",
        "colab_type": "code",
        "colab": {}
      },
      "source": [
        "from diagrams import Cluster, Diagram\n",
        "from diagrams.aws.compute import ECS\n",
        "from diagrams.aws.database import RDS\n",
        "from diagrams.aws.network import Route53\n",
        "\n",
        "with Diagram(\"Simple Web Service with DB Cluster\", show=False):\n",
        "    dns = Route53(\"dns\")\n",
        "    web = ECS(\"service\")\n",
        "\n",
        "    with Cluster(\"DB Cluster\"):\n",
        "        db_master = RDS(\"master\")\n",
        "        db_master - [RDS(\"slave1\"),\n",
        "                     RDS(\"slave2\")]\n",
        "\n",
        "    dns >> web >> db_master"
      ],
      "execution_count": null,
      "outputs": []
    },
    {
      "cell_type": "code",
      "metadata": {
        "id": "QT33pYvENdck",
        "colab_type": "code",
        "colab": {}
      },
      "source": [
        "from diagrams import Cluster, Diagram\n",
        "from diagrams.aws.compute import ECS, EKS, Lambda\n",
        "from diagrams.aws.database import Redshift\n",
        "from diagrams.aws.integration import SQS\n",
        "from diagrams.aws.storage import S3\n",
        "\n",
        "with Diagram(\"Event Processing\", show=False):\n",
        "    source = EKS(\"k8s source\")\n",
        "\n",
        "    with Cluster(\"Event Flows\"):\n",
        "        with Cluster(\"Event Workers\"):\n",
        "            workers = [ECS(\"worker1\"),\n",
        "                       ECS(\"worker2\"),\n",
        "                       ECS(\"worker3\")]\n",
        "\n",
        "        queue = SQS(\"event queue\")\n",
        "\n",
        "        with Cluster(\"Processing\"):\n",
        "            handlers = [Lambda(\"proc1\"),\n",
        "                        Lambda(\"proc2\"),\n",
        "                        Lambda(\"proc3\")]\n",
        "\n",
        "    store = S3(\"events store\")\n",
        "    dw = Redshift(\"analytics\")\n",
        "\n",
        "    source >> workers >> queue >> handlers\n",
        "    handlers >> store\n",
        "    handlers >> dw"
      ],
      "execution_count": null,
      "outputs": []
    },
    {
      "cell_type": "markdown",
      "metadata": {
        "id": "JCFjl39bOMdr",
        "colab_type": "text"
      },
      "source": [
        "## Edges\n",
        "Edge is representing an edge between Nodes."
      ]
    },
    {
      "cell_type": "code",
      "metadata": {
        "id": "idw_Pl0oOLyR",
        "colab_type": "code",
        "colab": {}
      },
      "source": [
        "from diagrams import Cluster, Diagram, Edge\n",
        "from diagrams.onprem.analytics import Spark\n",
        "from diagrams.onprem.compute import Server\n",
        "from diagrams.onprem.database import PostgreSQL\n",
        "from diagrams.onprem.inmemory import Redis\n",
        "from diagrams.onprem.logging import Fluentd\n",
        "from diagrams.onprem.monitoring import Grafana, Prometheus\n",
        "from diagrams.onprem.network import Nginx\n",
        "from diagrams.onprem.queue import Kafka\n",
        "\n",
        "with Diagram(name=\"Advanced Web Service with On-Premise (colored)\", show=False):\n",
        "    ingress = Nginx(\"ingress\")\n",
        "\n",
        "    metrics = Prometheus(\"metric\")\n",
        "    metrics << Edge(color=\"firebrick\", style=\"dashed\") << Grafana(\"monitoring\")\n",
        "\n",
        "    with Cluster(\"Service Cluster\"):\n",
        "        grpcsvc = [\n",
        "            Server(\"grpc1\"),\n",
        "            Server(\"grpc2\"),\n",
        "            Server(\"grpc3\")]\n",
        "\n",
        "    with Cluster(\"Sessions HA\"):\n",
        "        master = Redis(\"session\")\n",
        "        master - Edge(color=\"brown\", style=\"dashed\") - Redis(\"replica\") << Edge(label=\"collect\") << metrics\n",
        "        grpcsvc >> Edge(color=\"brown\") >> master\n",
        "\n",
        "    with Cluster(\"Database HA\"):\n",
        "        master = PostgreSQL(\"users\")\n",
        "        master - Edge(color=\"brown\", style=\"dotted\") - PostgreSQL(\"slave\") << Edge(label=\"collect\") << metrics\n",
        "        grpcsvc >> Edge(color=\"black\") >> master\n",
        "\n",
        "    aggregator = Fluentd(\"logging\")\n",
        "    aggregator >> Edge(label=\"parse\") >> Kafka(\"stream\") >> Edge(color=\"black\", style=\"bold\") >> Spark(\"analytics\")\n",
        "\n",
        "    ingress >> Edge(color=\"darkgreen\") << grpcsvc >> Edge(color=\"darkorange\") >> aggregator\n",
        "    "
      ],
      "execution_count": null,
      "outputs": []
    },
    {
      "cell_type": "code",
      "metadata": {
        "colab_type": "code",
        "id": "PB4QTP3WRQ_5",
        "colab": {
          "base_uri": "https://localhost:8080/",
          "height": 195
        },
        "outputId": "696a07c4-90d7-4fe2-c59b-7c5ce11545b6"
      },
      "source": [
        "from diagrams import Cluster, Diagram\n",
        "from diagrams.gcp.analytics import BigQuery, Dataflow, PubSub\n",
        "from diagrams.gcp.compute import AppEngine, Functions\n",
        "from diagrams.gcp.database import BigTable\n",
        "from diagrams.gcp.iot import IotCore\n",
        "from diagrams.gcp.storage import GCS\n",
        "\n",
        "with Diagram(\"Message Collecting\", show=False):\n",
        "    pubsub = PubSub(\"pubsub\")\n",
        "\n",
        "    with Cluster(\"Source of Data\"):\n",
        "        [IotCore(\"core1\"),\n",
        "         IotCore(\"core2\"),\n",
        "         IotCore(\"core3\")] >> pubsub\n",
        "\n",
        "    with Cluster(\"Targets\"):\n",
        "        with Cluster(\"Data Flow\"):\n",
        "            flow = Dataflow(\"data flow\")\n",
        "\n",
        "        with Cluster(\"Data Lake\"):\n",
        "            flow >> [BigQuery(\"bq\"),\n",
        "                     GCS(\"storage\")]\n",
        "\n",
        "        with Cluster(\"Event Driven\"):\n",
        "            with Cluster(\"Processing\"):\n",
        "                flow >> AppEngine(\"engine\") >> BigTable(\"bigtable\")\n",
        "\n",
        "            with Cluster(\"Serverless\"):\n",
        "                flow >> Functions(\"func\") >> AppEngine(\"appengine\")\n",
        "\n",
        "    pubsub >> flow\n",
        "Image(filename='advanced_web_service_with_onpremise_colored.png',width=600, height=400)"
      ],
      "execution_count": null,
      "outputs": [
        {
          "output_type": "error",
          "ename": "NameError",
          "evalue": "ignored",
          "traceback": [
            "\u001b[0;31m---------------------------------------------------------------------------\u001b[0m",
            "\u001b[0;31mNameError\u001b[0m                                 Traceback (most recent call last)",
            "\u001b[0;32m<ipython-input-31-b12fee1c1379>\u001b[0m in \u001b[0;36m<module>\u001b[0;34m()\u001b[0m\n\u001b[1;32m     30\u001b[0m \u001b[0;34m\u001b[0m\u001b[0m\n\u001b[1;32m     31\u001b[0m     \u001b[0mpubsub\u001b[0m \u001b[0;34m>>\u001b[0m \u001b[0mflow\u001b[0m\u001b[0;34m\u001b[0m\u001b[0;34m\u001b[0m\u001b[0m\n\u001b[0;32m---> 32\u001b[0;31m \u001b[0mImage\u001b[0m\u001b[0;34m(\u001b[0m\u001b[0mfilename\u001b[0m\u001b[0;34m=\u001b[0m\u001b[0;34m'advanced_web_service_with_onpremise_colored.png'\u001b[0m\u001b[0;34m,\u001b[0m\u001b[0mwidth\u001b[0m\u001b[0;34m=\u001b[0m\u001b[0;36m600\u001b[0m\u001b[0;34m,\u001b[0m \u001b[0mheight\u001b[0m\u001b[0;34m=\u001b[0m\u001b[0;36m400\u001b[0m\u001b[0;34m)\u001b[0m\u001b[0;34m\u001b[0m\u001b[0;34m\u001b[0m\u001b[0m\n\u001b[0m",
            "\u001b[0;31mNameError\u001b[0m: name 'Image' is not defined"
          ]
        }
      ]
    },
    {
      "cell_type": "markdown",
      "metadata": {
        "id": "N3yK79Vyl0w6",
        "colab_type": "text"
      },
      "source": [
        "## Message Collecting System and Data Lake on GCP"
      ]
    },
    {
      "cell_type": "code",
      "metadata": {
        "id": "NdL4BwIOl0w7",
        "colab_type": "code",
        "colab": {}
      },
      "source": [
        "from diagrams import Cluster, Diagram\n",
        "from diagrams.gcp.analytics import BigQuery, Dataflow, PubSub\n",
        "from diagrams.gcp.compute import AppEngine, Functions\n",
        "from diagrams.gcp.database import BigTable\n",
        "from diagrams.gcp.iot import IotCore\n",
        "from diagrams.gcp.storage import GCS\n",
        "\n",
        "with Diagram(\"Message Collecting\", show=False):\n",
        "    pubsub = PubSub(\"pubsub\")\n",
        "\n",
        "    with Cluster(\"Source of Data\"):\n",
        "        [IotCore(\"core1\"),\n",
        "         IotCore(\"core2\"),\n",
        "         IotCore(\"core3\")] >> pubsub\n",
        "\n",
        "    with Cluster(\"Targets\"):\n",
        "        with Cluster(\"Data Flow\"):\n",
        "            flow = Dataflow(\"data flow\")\n",
        "\n",
        "        with Cluster(\"Data Lake\"):\n",
        "            flow >> [BigQuery(\"bq\"),\n",
        "                     GCS(\"storage\")]\n",
        "\n",
        "        with Cluster(\"Event Driven\"):\n",
        "            with Cluster(\"Processing\"):\n",
        "                flow >> AppEngine(\"engine\") >> BigTable(\"bigtable\")\n",
        "\n",
        "            with Cluster(\"Serverless\"):\n",
        "                flow >> Functions(\"func\") >> AppEngine(\"appengine\")\n",
        "\n",
        "    pubsub >> flow\n"
      ],
      "execution_count": null,
      "outputs": []
    },
    {
      "cell_type": "markdown",
      "metadata": {
        "id": "zh1tYY4sl0xA",
        "colab_type": "text"
      },
      "source": [
        "## Airflow Diagrams \n",
        "\n",
        "Airflow Diagrams is an Airflow plugin that aims to easily visualise your Airflow DAGs on service level from providers like AWS, GCP, Azure, etc. via diagrams.\n",
        "\n",
        "Install Airflow and Airflow Diagrams - \n",
        "* pip install apache-airflow\n",
        "* pip install airflow-diagrams\n"
      ]
    },
    {
      "cell_type": "code",
      "metadata": {
        "id": "5U1J-T1-P6wZ",
        "colab_type": "code",
        "colab": {
          "base_uri": "https://localhost:8080/",
          "height": 1000
        },
        "outputId": "e44c71f8-6bae-4002-c87f-998a72d2856a"
      },
      "source": [
        "!pip install airflow-diagrams"
      ],
      "execution_count": null,
      "outputs": [
        {
          "output_type": "stream",
          "text": [
            "Collecting airflow-diagrams\n",
            "  Downloading https://files.pythonhosted.org/packages/ba/e3/675acc23d98346cb00456e9ff610988b681722e8e6d3bfceb65186059eb7/airflow_diagrams-0.1.0-py3-none-any.whl\n",
            "Requirement already satisfied: apache-airflow in /usr/local/lib/python3.6/dist-packages (from airflow-diagrams) (1.10.12)\n",
            "Requirement already satisfied: diagrams in /usr/local/lib/python3.6/dist-packages (from airflow-diagrams) (0.17.0)\n",
            "Requirement already satisfied: iso8601>=0.1.12 in /usr/local/lib/python3.6/dist-packages (from apache-airflow->airflow-diagrams) (0.1.13)\n",
            "Requirement already satisfied: werkzeug<1.0.0 in /usr/local/lib/python3.6/dist-packages (from apache-airflow->airflow-diagrams) (0.16.1)\n",
            "Requirement already satisfied: dill<0.4,>=0.2.2 in /usr/local/lib/python3.6/dist-packages (from apache-airflow->airflow-diagrams) (0.3.2)\n",
            "Requirement already satisfied: zope.deprecation<5.0,>=4.0 in /usr/local/lib/python3.6/dist-packages (from apache-airflow->airflow-diagrams) (4.4.0)\n",
            "Requirement already satisfied: configparser<3.6.0,>=3.5.0 in /usr/local/lib/python3.6/dist-packages (from apache-airflow->airflow-diagrams) (3.5.3)\n",
            "Requirement already satisfied: typing-extensions>=3.7.4; python_version < \"3.8\" in /usr/local/lib/python3.6/dist-packages (from apache-airflow->airflow-diagrams) (3.7.4.3)\n",
            "Requirement already satisfied: cattrs~=1.0 in /usr/local/lib/python3.6/dist-packages (from apache-airflow->airflow-diagrams) (1.0.0)\n",
            "Requirement already satisfied: lazy-object-proxy~=1.3 in /usr/local/lib/python3.6/dist-packages (from apache-airflow->airflow-diagrams) (1.5.1)\n",
            "Requirement already satisfied: graphviz>=0.12 in /usr/local/lib/python3.6/dist-packages (from apache-airflow->airflow-diagrams) (0.13.2)\n",
            "Requirement already satisfied: python-dateutil<3,>=2.3 in /usr/local/lib/python3.6/dist-packages (from apache-airflow->airflow-diagrams) (2.8.1)\n",
            "Requirement already satisfied: jsonschema~=3.0 in /usr/local/lib/python3.6/dist-packages (from apache-airflow->airflow-diagrams) (3.2.0)\n",
            "Requirement already satisfied: flask-appbuilder~=2.2; python_version >= \"3.6\" in /usr/local/lib/python3.6/dist-packages (from apache-airflow->airflow-diagrams) (2.3.4)\n",
            "Requirement already satisfied: tabulate<0.9,>=0.7.5 in /usr/local/lib/python3.6/dist-packages (from apache-airflow->airflow-diagrams) (0.8.7)\n",
            "Requirement already satisfied: psutil<6.0.0,>=4.2.0 in /usr/local/lib/python3.6/dist-packages (from apache-airflow->airflow-diagrams) (5.4.8)\n",
            "Requirement already satisfied: flask-wtf<0.15,>=0.14.2 in /usr/local/lib/python3.6/dist-packages (from apache-airflow->airflow-diagrams) (0.14.3)\n",
            "Requirement already satisfied: colorlog==4.0.2 in /usr/local/lib/python3.6/dist-packages (from apache-airflow->airflow-diagrams) (4.0.2)\n",
            "Requirement already satisfied: funcsigs<2.0.0,>=1.0.0 in /usr/local/lib/python3.6/dist-packages (from apache-airflow->airflow-diagrams) (1.0.2)\n",
            "Requirement already satisfied: markdown<3.0,>=2.5.2 in /usr/local/lib/python3.6/dist-packages (from apache-airflow->airflow-diagrams) (2.6.11)\n",
            "Requirement already satisfied: tenacity==4.12.0 in /usr/local/lib/python3.6/dist-packages (from apache-airflow->airflow-diagrams) (4.12.0)\n",
            "Requirement already satisfied: flask<2.0,>=1.1.0 in /usr/local/lib/python3.6/dist-packages (from apache-airflow->airflow-diagrams) (1.1.2)\n",
            "Requirement already satisfied: flask-swagger<0.3,>=0.2.13 in /usr/local/lib/python3.6/dist-packages (from apache-airflow->airflow-diagrams) (0.2.14)\n",
            "Requirement already satisfied: argcomplete~=1.10 in /usr/local/lib/python3.6/dist-packages (from apache-airflow->airflow-diagrams) (1.12.0)\n",
            "Requirement already satisfied: sqlalchemy~=1.3 in /usr/local/lib/python3.6/dist-packages (from apache-airflow->airflow-diagrams) (1.3.19)\n",
            "Requirement already satisfied: setproctitle<2,>=1.1.8 in /usr/local/lib/python3.6/dist-packages (from apache-airflow->airflow-diagrams) (1.1.10)\n",
            "Requirement already satisfied: pygments<3.0,>=2.0.1 in /usr/local/lib/python3.6/dist-packages (from apache-airflow->airflow-diagrams) (2.6.1)\n",
            "Requirement already satisfied: flask-admin==1.5.4 in /usr/local/lib/python3.6/dist-packages (from apache-airflow->airflow-diagrams) (1.5.4)\n",
            "Requirement already satisfied: pandas<2.0,>=0.17.1 in /usr/local/lib/python3.6/dist-packages (from apache-airflow->airflow-diagrams) (1.0.5)\n",
            "Requirement already satisfied: gunicorn<21.0,>=19.5.0 in /usr/local/lib/python3.6/dist-packages (from apache-airflow->airflow-diagrams) (20.0.4)\n",
            "Requirement already satisfied: python-nvd3~=0.15.0 in /usr/local/lib/python3.6/dist-packages (from apache-airflow->airflow-diagrams) (0.15.0)\n",
            "Requirement already satisfied: json-merge-patch==0.2 in /usr/local/lib/python3.6/dist-packages (from apache-airflow->airflow-diagrams) (0.2)\n",
            "Requirement already satisfied: email-validator in /usr/local/lib/python3.6/dist-packages (from apache-airflow->airflow-diagrams) (1.1.1)\n",
            "Requirement already satisfied: tzlocal<2.0.0,>=1.4 in /usr/local/lib/python3.6/dist-packages (from apache-airflow->airflow-diagrams) (1.5.1)\n",
            "Requirement already satisfied: cached-property~=1.5 in /usr/local/lib/python3.6/dist-packages (from apache-airflow->airflow-diagrams) (1.5.1)\n",
            "Requirement already satisfied: croniter<0.4,>=0.3.17 in /usr/local/lib/python3.6/dist-packages (from apache-airflow->airflow-diagrams) (0.3.34)\n",
            "Requirement already satisfied: attrs~=19.3 in /usr/local/lib/python3.6/dist-packages (from apache-airflow->airflow-diagrams) (19.3.0)\n",
            "Requirement already satisfied: pendulum==1.4.4 in /usr/local/lib/python3.6/dist-packages (from apache-airflow->airflow-diagrams) (1.4.4)\n",
            "Requirement already satisfied: flask-login<0.5,>=0.3 in /usr/local/lib/python3.6/dist-packages (from apache-airflow->airflow-diagrams) (0.4.1)\n",
            "Requirement already satisfied: python-daemon>=2.1.1 in /usr/local/lib/python3.6/dist-packages (from apache-airflow->airflow-diagrams) (2.2.4)\n",
            "Requirement already satisfied: alembic<2.0,>=1.0 in /usr/local/lib/python3.6/dist-packages (from apache-airflow->airflow-diagrams) (1.4.3)\n",
            "Requirement already satisfied: future<0.19,>=0.16.0 in /usr/local/lib/python3.6/dist-packages (from apache-airflow->airflow-diagrams) (0.16.0)\n",
            "Requirement already satisfied: requests<3,>=2.20.0 in /usr/local/lib/python3.6/dist-packages (from apache-airflow->airflow-diagrams) (2.23.0)\n",
            "Requirement already satisfied: thrift>=0.9.2 in /usr/local/lib/python3.6/dist-packages (from apache-airflow->airflow-diagrams) (0.13.0)\n",
            "Requirement already satisfied: sqlalchemy-jsonfield~=0.9; python_version >= \"3.5\" in /usr/local/lib/python3.6/dist-packages (from apache-airflow->airflow-diagrams) (0.9.0)\n",
            "Requirement already satisfied: python-slugify<5.0,>=3.0.0 in /usr/local/lib/python3.6/dist-packages (from apache-airflow->airflow-diagrams) (4.0.1)\n",
            "Requirement already satisfied: flask-caching<1.4.0,>=1.3.3 in /usr/local/lib/python3.6/dist-packages (from apache-airflow->airflow-diagrams) (1.3.3)\n",
            "Requirement already satisfied: jinja2<2.12.0,>=2.10.1 in /usr/local/lib/python3.6/dist-packages (from apache-airflow->airflow-diagrams) (2.11.2)\n",
            "Requirement already satisfied: unicodecsv>=0.14.1 in /usr/local/lib/python3.6/dist-packages (from apache-airflow->airflow-diagrams) (0.14.1)\n",
            "Requirement already satisfied: contextvars<3.0,>=2.4; python_version >= \"3.6\" and python_version < \"3.7\" in /usr/local/lib/python3.6/dist-packages (from diagrams->airflow-diagrams) (2.4)\n",
            "Requirement already satisfied: setuptools in /usr/local/lib/python3.6/dist-packages (from zope.deprecation<5.0,>=4.0->apache-airflow->airflow-diagrams) (50.3.0)\n",
            "Requirement already satisfied: six>=1.5 in /usr/local/lib/python3.6/dist-packages (from python-dateutil<3,>=2.3->apache-airflow->airflow-diagrams) (1.15.0)\n",
            "Requirement already satisfied: pyrsistent>=0.14.0 in /usr/local/lib/python3.6/dist-packages (from jsonschema~=3.0->apache-airflow->airflow-diagrams) (0.17.3)\n",
            "Requirement already satisfied: importlib-metadata; python_version < \"3.8\" in /usr/local/lib/python3.6/dist-packages (from jsonschema~=3.0->apache-airflow->airflow-diagrams) (1.7.0)\n",
            "Requirement already satisfied: marshmallow-sqlalchemy<1,>=0.16.1 in /usr/local/lib/python3.6/dist-packages (from flask-appbuilder~=2.2; python_version >= \"3.6\"->apache-airflow->airflow-diagrams) (0.23.1)\n",
            "Requirement already satisfied: sqlalchemy-utils<1,>=0.32.21 in /usr/local/lib/python3.6/dist-packages (from flask-appbuilder~=2.2; python_version >= \"3.6\"->apache-airflow->airflow-diagrams) (0.36.8)\n",
            "Requirement already satisfied: marshmallow-enum<2,>=1.4.1 in /usr/local/lib/python3.6/dist-packages (from flask-appbuilder~=2.2; python_version >= \"3.6\"->apache-airflow->airflow-diagrams) (1.5.1)\n",
            "Requirement already satisfied: Flask-OpenID<2,>=1.2.5 in /usr/local/lib/python3.6/dist-packages (from flask-appbuilder~=2.2; python_version >= \"3.6\"->apache-airflow->airflow-diagrams) (1.2.5)\n",
            "Requirement already satisfied: colorama<1,>=0.3.9 in /usr/local/lib/python3.6/dist-packages (from flask-appbuilder~=2.2; python_version >= \"3.6\"->apache-airflow->airflow-diagrams) (0.4.3)\n",
            "Requirement already satisfied: apispec[yaml]<2,>=1.1.1 in /usr/local/lib/python3.6/dist-packages (from flask-appbuilder~=2.2; python_version >= \"3.6\"->apache-airflow->airflow-diagrams) (1.3.3)\n",
            "Requirement already satisfied: Flask-SQLAlchemy<3,>=2.4 in /usr/local/lib/python3.6/dist-packages (from flask-appbuilder~=2.2; python_version >= \"3.6\"->apache-airflow->airflow-diagrams) (2.4.4)\n",
            "Requirement already satisfied: click<8,>=6.7 in /usr/local/lib/python3.6/dist-packages (from flask-appbuilder~=2.2; python_version >= \"3.6\"->apache-airflow->airflow-diagrams) (7.1.2)\n",
            "Requirement already satisfied: Flask-Babel<2,>=1 in /usr/local/lib/python3.6/dist-packages (from flask-appbuilder~=2.2; python_version >= \"3.6\"->apache-airflow->airflow-diagrams) (1.0.0)\n",
            "Requirement already satisfied: prison<1.0.0,>=0.1.3 in /usr/local/lib/python3.6/dist-packages (from flask-appbuilder~=2.2; python_version >= \"3.6\"->apache-airflow->airflow-diagrams) (0.1.3)\n",
            "Requirement already satisfied: PyJWT>=1.7.1 in /usr/local/lib/python3.6/dist-packages (from flask-appbuilder~=2.2; python_version >= \"3.6\"->apache-airflow->airflow-diagrams) (1.7.1)\n",
            "Requirement already satisfied: marshmallow<3.0.0,>=2.18.0 in /usr/local/lib/python3.6/dist-packages (from flask-appbuilder~=2.2; python_version >= \"3.6\"->apache-airflow->airflow-diagrams) (2.21.0)\n",
            "Requirement already satisfied: Flask-JWT-Extended<4,>=3.18 in /usr/local/lib/python3.6/dist-packages (from flask-appbuilder~=2.2; python_version >= \"3.6\"->apache-airflow->airflow-diagrams) (3.24.1)\n",
            "Requirement already satisfied: itsdangerous in /usr/local/lib/python3.6/dist-packages (from flask-wtf<0.15,>=0.14.2->apache-airflow->airflow-diagrams) (1.1.0)\n",
            "Requirement already satisfied: WTForms in /usr/local/lib/python3.6/dist-packages (from flask-wtf<0.15,>=0.14.2->apache-airflow->airflow-diagrams) (2.3.3)\n",
            "Requirement already satisfied: PyYAML>=5.1 in /usr/local/lib/python3.6/dist-packages (from flask-swagger<0.3,>=0.2.13->apache-airflow->airflow-diagrams) (5.3.1)\n",
            "Requirement already satisfied: numpy>=1.13.3 in /usr/local/lib/python3.6/dist-packages (from pandas<2.0,>=0.17.1->apache-airflow->airflow-diagrams) (1.18.5)\n",
            "Requirement already satisfied: pytz>=2017.2 in /usr/local/lib/python3.6/dist-packages (from pandas<2.0,>=0.17.1->apache-airflow->airflow-diagrams) (2018.9)\n",
            "Requirement already satisfied: idna>=2.0.0 in /usr/local/lib/python3.6/dist-packages (from email-validator->apache-airflow->airflow-diagrams) (2.10)\n",
            "Requirement already satisfied: dnspython>=1.15.0 in /usr/local/lib/python3.6/dist-packages (from email-validator->apache-airflow->airflow-diagrams) (2.0.0)\n",
            "Requirement already satisfied: natsort in /usr/local/lib/python3.6/dist-packages (from croniter<0.4,>=0.3.17->apache-airflow->airflow-diagrams) (5.5.0)\n",
            "Requirement already satisfied: pytzdata>=2018.3.0.0 in /usr/local/lib/python3.6/dist-packages (from pendulum==1.4.4->apache-airflow->airflow-diagrams) (2020.1)\n",
            "Requirement already satisfied: docutils in /usr/local/lib/python3.6/dist-packages (from python-daemon>=2.1.1->apache-airflow->airflow-diagrams) (0.15.2)\n",
            "Requirement already satisfied: lockfile>=0.10 in /usr/local/lib/python3.6/dist-packages (from python-daemon>=2.1.1->apache-airflow->airflow-diagrams) (0.12.2)\n",
            "Requirement already satisfied: python-editor>=0.3 in /usr/local/lib/python3.6/dist-packages (from alembic<2.0,>=1.0->apache-airflow->airflow-diagrams) (1.0.4)\n",
            "Requirement already satisfied: Mako in /usr/local/lib/python3.6/dist-packages (from alembic<2.0,>=1.0->apache-airflow->airflow-diagrams) (1.1.3)\n",
            "Requirement already satisfied: chardet<4,>=3.0.2 in /usr/local/lib/python3.6/dist-packages (from requests<3,>=2.20.0->apache-airflow->airflow-diagrams) (3.0.4)\n",
            "Requirement already satisfied: urllib3!=1.25.0,!=1.25.1,<1.26,>=1.21.1 in /usr/local/lib/python3.6/dist-packages (from requests<3,>=2.20.0->apache-airflow->airflow-diagrams) (1.24.3)\n",
            "Requirement already satisfied: certifi>=2017.4.17 in /usr/local/lib/python3.6/dist-packages (from requests<3,>=2.20.0->apache-airflow->airflow-diagrams) (2020.6.20)\n",
            "Requirement already satisfied: typing>=3.6; python_version < \"3.7\" in /usr/local/lib/python3.6/dist-packages (from sqlalchemy-jsonfield~=0.9; python_version >= \"3.5\"->apache-airflow->airflow-diagrams) (3.7.4.3)\n",
            "Requirement already satisfied: text-unidecode>=1.3 in /usr/local/lib/python3.6/dist-packages (from python-slugify<5.0,>=3.0.0->apache-airflow->airflow-diagrams) (1.3)\n",
            "Requirement already satisfied: MarkupSafe>=0.23 in /usr/local/lib/python3.6/dist-packages (from jinja2<2.12.0,>=2.10.1->apache-airflow->airflow-diagrams) (1.1.1)\n",
            "Requirement already satisfied: immutables>=0.9 in /usr/local/lib/python3.6/dist-packages (from contextvars<3.0,>=2.4; python_version >= \"3.6\" and python_version < \"3.7\"->diagrams->airflow-diagrams) (0.14)\n",
            "Requirement already satisfied: zipp>=0.5 in /usr/local/lib/python3.6/dist-packages (from importlib-metadata; python_version < \"3.8\"->jsonschema~=3.0->apache-airflow->airflow-diagrams) (3.1.0)\n",
            "Requirement already satisfied: python3-openid>=2.0 in /usr/local/lib/python3.6/dist-packages (from Flask-OpenID<2,>=1.2.5->flask-appbuilder~=2.2; python_version >= \"3.6\"->apache-airflow->airflow-diagrams) (3.2.0)\n",
            "Requirement already satisfied: Babel>=2.3 in /usr/local/lib/python3.6/dist-packages (from Flask-Babel<2,>=1->flask-appbuilder~=2.2; python_version >= \"3.6\"->apache-airflow->airflow-diagrams) (2.8.0)\n",
            "Requirement already satisfied: defusedxml in /usr/local/lib/python3.6/dist-packages (from python3-openid>=2.0->Flask-OpenID<2,>=1.2.5->flask-appbuilder~=2.2; python_version >= \"3.6\"->apache-airflow->airflow-diagrams) (0.6.0)\n",
            "Installing collected packages: airflow-diagrams\n",
            "Successfully installed airflow-diagrams-0.1.0\n"
          ],
          "name": "stdout"
        }
      ]
    },
    {
      "cell_type": "code",
      "metadata": {
        "id": "T8b-9wvxl0xB",
        "colab_type": "code",
        "colab": {}
      },
      "source": [
        "from airflow.models.dag import DAG\n",
        "from airflow.operators.dummy_operator import DummyOperator\n",
        "from airflow.utils.dates import days_ago\n",
        "\n",
        "from airflow_diagrams import generate_diagram_from_dag\n",
        "\n",
        "with DAG('example_dag', schedule_interval=None, default_args=dict(start_date=days_ago(2))) as dag:\n",
        "    DummyOperator(task_id='run_this_1') >> [\n",
        "        DummyOperator(task_id='run_this_2a'), DummyOperator(task_id='run_this_2b')\n",
        "    ] >> DummyOperator(task_id='run_this_3')\n",
        "\n",
        "generate_diagram_from_dag(dag=dag, diagram_file=\"example_dag.py\")"
      ],
      "execution_count": null,
      "outputs": []
    },
    {
      "cell_type": "code",
      "metadata": {
        "id": "t2GkazmQQjZS",
        "colab_type": "code",
        "colab": {}
      },
      "source": [
        "from diagrams import Diagram\n",
        "from diagrams.generic.blank import Blank\n",
        "\n",
        "with Diagram(\"example_dag\", show=False):\n",
        "    run_this_1 = Blank(\"run_this_1\")\n",
        "    run_this_2a = Blank(\"run_this_2a\")\n",
        "    run_this_2b = Blank(\"run_this_2b\")\n",
        "    run_this_3 = Blank(\"run_this_3\")\n",
        "    \n",
        "    run_this_1 >> run_this_2b\n",
        "    run_this_2b >> run_this_3\n",
        "    run_this_1 >> run_this_2a\n",
        "    run_this_2a >> run_this_3\n",
        "    "
      ],
      "execution_count": null,
      "outputs": []
    },
    {
      "cell_type": "markdown",
      "metadata": {
        "id": "8AlKUm7ul0xF",
        "colab_type": "text"
      },
      "source": [
        "## References \n",
        "\n",
        "https://github.com/mingrammer/diagrams\n",
        "\n",
        "https://diagrams.mingrammer.com/"
      ]
    }
  ]
}